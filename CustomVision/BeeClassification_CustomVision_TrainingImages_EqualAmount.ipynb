{
 "cells": [
  {
   "cell_type": "markdown",
   "metadata": {},
   "source": [
    "# Bee Classification using Custom Vision - Training images - Equal amount\n",
    "\n",
    "## MPP AI Capstone\n",
    "\n",
    "The data files for the Capstone are found here after registration and log in. \n",
    "https://www.datasciencecapstone.org/competitions/5/bumblebee-or-honeybee/page/16/\n",
    "\n",
    "Extract the Capstone files in the same directory as this Jupyter Notebook and You are ready to go.\n",
    "\n",
    "## Custom Vision init\n",
    "\n",
    "https://customvision.ai\n",
    "\n",
    "Documentation:\n",
    "\n",
    "https://docs.microsoft.com/en-us/azure/opbuildpdf/cognitive-services/Custom-Vision-Service/toc.pdf?branch=live\n",
    "\n",
    "\n",
    "To use the tutorial, you need to do the following: \n",
    "- Install either Python 2.7+ or Python 3.5+. \n",
    "- Install pip. \n",
    "- Install Git.\n",
    "\n",
    "To build this example, you need to install the Preview Python SDK for the Custom Vision API from GitHub as follows:\n",
    "\n",
    "pip install \"git+https://github.com/Azure/azure-sdk-for-python#egg=azure-cognitiveservices-visioncustomvision&subdirectory=azure-cognitiveservices-vision-customvision\"\n",
    "\n",
    "If you encounter a Filename too long error, make sure you have longpath support in Git enabled:\n",
    "\n",
    "git config --system core.longpaths true\n",
    "\n",
    "\n",
    "### Initializing the Custom Vision pipe and creating a new project\n"
   ]
  },
  {
   "cell_type": "code",
   "execution_count": 1,
   "metadata": {
    "collapsed": false
   },
   "outputs": [
    {
     "name": "stdout",
     "output_type": "stream",
     "text": [
      "Creating project...\n",
      "Project created!\n"
     ]
    }
   ],
   "source": [
    "from azure.cognitiveservices.vision.customvision.training import training_api \n",
    "from azure.cognitiveservices.vision.customvision.training.models import ImageUrlCreateEntry\n",
    "\n",
    "# Replace with a valid key \n",
    "# Obtain your training and prediction key by signing in to Custom Vision Service and going to your account settings. \n",
    "\n",
    "training_key = \"7a712806471e45b8b99ccb8ec0221fa1\" \n",
    "\n",
    "trainer = training_api.TrainingApi(training_key)\n",
    "\n",
    "# Create a new project\n",
    "\n",
    "print (\"Creating project...\") \n",
    "project = trainer.create_project(\"MPP AI Capstone Equal Amount\")\n",
    "print (\"Project created!\")\n"
   ]
  },
  {
   "cell_type": "markdown",
   "metadata": {},
   "source": [
    "### Adding tags"
   ]
  },
  {
   "cell_type": "code",
   "execution_count": 2,
   "metadata": {
    "collapsed": true
   },
   "outputs": [],
   "source": [
    "# Make two tags in the new project\n",
    "\n",
    "bumblebee_tag = trainer.create_tag(project.id, \"bumblebee\") \n",
    "honeybee_tag = trainer.create_tag(project.id, \"honeybee\")\n"
   ]
  },
  {
   "cell_type": "markdown",
   "metadata": {},
   "source": [
    "### Sorting images"
   ]
  },
  {
   "cell_type": "code",
   "execution_count": 3,
   "metadata": {
    "collapsed": false
   },
   "outputs": [],
   "source": [
    "import os\n",
    "import pandas as pd\n",
    "import shutil as sh\n",
    "import numpy as np\n",
    "import matplotlib.pyplot as plt\n",
    "\n",
    "%matplotlib inline\n",
    "\n",
    "# Creating subfolders\n",
    "\n",
    "train_dir= \"train\"\n",
    "bumblebee_dir = \"train_small\\\\bumblebee\"\n",
    "\n",
    "if not os.path.exists(bumblebee_dir):\n",
    "    os.makedirs(bumblebee_dir)\n",
    "\n",
    "honeybee_dir = \"train_small\\\\honeybee\"\n",
    "\n",
    "if not os.path.exists(honeybee_dir):\n",
    "    os.makedirs(honeybee_dir)\n",
    "\n",
    "# Reading labels\n",
    "    \n",
    "labels = pd.read_csv(\"train_labels_small.csv\", header=0, dtype=str)\n",
    "# print(labels)\n",
    "\n",
    "# Sorting files by label\n",
    "\n",
    "bb_labels = (labels[labels.bee_type == \"bumble_bee\"])\n",
    "bb_files = (bb_labels.id + \".jpg\")\n",
    "# print(bb_files)\n",
    "\n",
    "hb_labels = (labels[labels.bee_type == \"honey_bee\"])\n",
    "hb_files = (hb_labels.id + \".jpg\")\n",
    "# print(hb_files)\n",
    "\n",
    "# Copying files by label to subfolders\n",
    "\n",
    "for files in bb_files:\n",
    "    sh.copy2(train_dir + \"\\\\\" + files, bumblebee_dir)\n",
    "    \n",
    "for files in hb_files:\n",
    "    sh.copy2(train_dir + \"\\\\\" + files, honeybee_dir)\n"
   ]
  },
  {
   "cell_type": "markdown",
   "metadata": {},
   "source": [
    "### Uploading images"
   ]
  },
  {
   "cell_type": "code",
   "execution_count": 4,
   "metadata": {
    "collapsed": true
   },
   "outputs": [],
   "source": [
    "# Then image uploading, this might take a while, upto 1 hour with 4000 images\n",
    "\n",
    "for image in os.listdir(os.fsencode(bumblebee_dir)): \n",
    "    with open(bumblebee_dir + \"\\\\\" + os.fsdecode(image), mode=\"rb\") as img_data:\n",
    "        trainer.create_images_from_data(project.id, img_data.read(), [ bumblebee_tag.id ])\n",
    "\n",
    "for image in os.listdir(os.fsencode(honeybee_dir)): \n",
    "    with open(honeybee_dir + \"\\\\\" + os.fsdecode(image), mode=\"rb\") as img_data:\n",
    "        trainer.create_images_from_data(project.id, img_data.read(), [ honeybee_tag.id ])\n"
   ]
  },
  {
   "cell_type": "markdown",
   "metadata": {},
   "source": [
    "### Training\n",
    "\n",
    "First iteration in the project, mark as default iteration"
   ]
  },
  {
   "cell_type": "code",
   "execution_count": 5,
   "metadata": {
    "collapsed": false
   },
   "outputs": [
    {
     "name": "stdout",
     "output_type": "stream",
     "text": [
      "Training...\n",
      "Training status: Training\n",
      "Training status: Training\n",
      "Training status: Training\n",
      "Training status: Training\n",
      "Training status: Training\n",
      "Training status: Training\n",
      "Training status: Training\n",
      "Training status: Completed\n",
      "Done!\n"
     ]
    }
   ],
   "source": [
    "import time\n",
    "\n",
    "print (\"Training...\") \n",
    "iteration = trainer.train_project(project.id) \n",
    "while (iteration.status == \"Training\"):\n",
    "    iteration = trainer.get_iteration(project.id, iteration.id)\n",
    "    print (\"Training status: \" + iteration.status)\n",
    "    time.sleep(1)\n",
    "\n",
    "# The iteration is now trained. Make it the default project endpoint\n",
    "\n",
    "trainer.update_iteration(project.id, iteration.id, is_default=True)\n",
    "print (\"Done!\")"
   ]
  },
  {
   "cell_type": "markdown",
   "metadata": {},
   "source": [
    "### Testing 1st run (then use separate TestingImages notebook)"
   ]
  },
  {
   "cell_type": "code",
   "execution_count": 6,
   "metadata": {
    "collapsed": false
   },
   "outputs": [
    {
     "name": "stdout",
     "output_type": "stream",
     "text": [
      "Done testing, results in Predictions.csv\n"
     ]
    }
   ],
   "source": [
    "from azure.cognitiveservices.vision.customvision.prediction import prediction_endpoint \n",
    "from azure.cognitiveservices.vision.customvision.prediction.prediction_endpoint import models\n",
    "\n",
    "prediction_key = \"a4aea911d9fa4015b5a445164c70552a\"\n",
    "predictor = prediction_endpoint.PredictionEndpoint(prediction_key)\n",
    "\n",
    "\n",
    "# Open the sample image and get back the prediction results. \n",
    "# This might take some time, upto 15 min with 1000 images.\n",
    "# Write the results to file.\n",
    "\n",
    "with open(\"predictions.csv\",\"w\") as f:\n",
    "    f.write(\"id,pred1,pred2\\n\")\n",
    "\n",
    "test_dir = \"test\"\n",
    "\n",
    "for image in os.listdir(os.fsencode(test_dir)):\n",
    "    with open(test_dir + \"\\\\\" + os.fsdecode(image), mode=\"rb\") as test_data:\n",
    "        results = predictor.predict_image(project.id, test_data.read())\n",
    "        with open(\"predictions.csv\", \"a\") as f:\n",
    "            f.write(image.decode(\"utf-8\"))\n",
    "        for prediction in results.predictions:\n",
    "            with open(\"predictions.csv\",\"a\") as f:\n",
    "                f.write(\",\" + prediction.tag + \": {0:.2f}\\n\".format(prediction.probability))\n",
    "            \n",
    "print(\"Done testing, results in Predictions.csv\")"
   ]
  },
  {
   "cell_type": "code",
   "execution_count": null,
   "metadata": {
    "collapsed": true
   },
   "outputs": [],
   "source": []
  }
 ],
 "metadata": {
  "kernelspec": {
   "display_name": "Python 3",
   "language": "python",
   "name": "python3"
  },
  "language_info": {
   "codemirror_mode": {
    "name": "ipython",
    "version": 3
   },
   "file_extension": ".py",
   "mimetype": "text/x-python",
   "name": "python",
   "nbconvert_exporter": "python",
   "pygments_lexer": "ipython3",
   "version": "3.6.0"
  }
 },
 "nbformat": 4,
 "nbformat_minor": 2
}
