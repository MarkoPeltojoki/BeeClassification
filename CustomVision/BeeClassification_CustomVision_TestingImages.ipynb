{
 "cells": [
  {
   "cell_type": "markdown",
   "metadata": {},
   "source": [
    "# Bee Classification using Custom Vision - Testing images\n",
    "\n",
    "Now as we have trained Custom Vision instance with TrainImages notebook, let's do some testing.\n",
    "\n",
    "## MPP AI Capstone\n",
    "\n",
    "The data files for the Capstone are found here after registration and log in. \n",
    "https://www.datasciencecapstone.org/competitions/5/bumblebee-or-honeybee/page/16/\n",
    "\n",
    "Extract the Capstone files in the same directory as this Jupyter Notebook and You are ready to go.\n",
    "\n",
    "## Custom Vision init\n",
    "\n",
    "https://customvision.ai\n",
    "\n",
    "Documentation:\n",
    "\n",
    "https://docs.microsoft.com/en-us/azure/opbuildpdf/cognitive-services/Custom-Vision-Service/toc.pdf?branch=live\n",
    "\n",
    "\n",
    "To use the tutorial, you need to do the following: \n",
    "- Install either Python 2.7+ or Python 3.5+. \n",
    "- Install pip. \n",
    "- Install Git.\n",
    "\n",
    "To build this example, you need to install the Preview Python SDK for the Custom Vision API from GitHub as follows:\n",
    "\n",
    "pip install \"git+https://github.com/Azure/azure-sdk-for-python#egg=azure-cognitiveservices-visioncustomvision&subdirectory=azure-cognitiveservices-vision-customvision\"\n",
    "\n",
    "If you encounter a Filename too long error, make sure you have longpath support in Git enabled:\n",
    "\n",
    "git config --system core.longpaths true\n",
    "\n",
    "\n",
    "### Testing by using the default prediction endpoint"
   ]
  },
  {
   "cell_type": "code",
   "execution_count": 3,
   "metadata": {
    "collapsed": false
   },
   "outputs": [
    {
     "name": "stdout",
     "output_type": "stream",
     "text": [
      "Done testing, results in Predictions.csv\n"
     ]
    }
   ],
   "source": [
    "from azure.cognitiveservices.vision.customvision.training import training_api \n",
    "from azure.cognitiveservices.vision.customvision.training.models import ImageUrlCreateEntry\n",
    "from azure.cognitiveservices.vision.customvision.prediction import prediction_endpoint \n",
    "from azure.cognitiveservices.vision.customvision.prediction.prediction_endpoint import models\n",
    "\n",
    "import os\n",
    "import pandas as pd\n",
    "import shutil as sh\n",
    "import numpy as np\n",
    "import matplotlib.pyplot as plt\n",
    "\n",
    "%matplotlib inline\n",
    "\n",
    "\n",
    "# Now there is a trained endpoint that can be used to make a prediction\n",
    "\n",
    "training_key = \"7a712806471e45b8b99ccb8ec0221fa1\" \n",
    "trainer = training_api.TrainingApi(training_key)\n",
    "project_id = \"1b51dd54-a54c-45e2-acc9-ce3da91d2a74\"\n",
    "project = trainer.get_project(project_id)\n",
    "iteration_id = \"54d270e1-b2e2-4950-8092-a7faf272b062\"\n",
    "# iteration = trainer.get_iteration(project_id, iteration_id) \n",
    "\n",
    "prediction_key = \"a4aea911d9fa4015b5a445164c70552a\"\n",
    "predictor = prediction_endpoint.PredictionEndpoint(prediction_key)\n",
    "\n",
    "\n",
    "# Open the sample image and get back the prediction results. \n",
    "# This might take some time, upto 15 min with 1000 images.\n",
    "# Write the results to file.\n",
    "\n",
    "with open(\"predictions.csv\",\"w\") as f:\n",
    "    f.write(\"id,pred1,pred2\\n\")\n",
    "test_dir = \"test\"\n",
    "\n",
    "for image in os.listdir(os.fsencode(test_dir)):\n",
    "    with open(test_dir + \"\\\\\" + os.fsdecode(image), mode=\"rb\") as test_data:\n",
    "        results = predictor.predict_image_with_no_store(project.id, test_data.read(), iteration_id)\n",
    "        with open(\"predictions.csv\", \"a\") as f:\n",
    "            f.write(image.decode(\"utf-8\"))\n",
    "        for prediction in results.predictions:\n",
    "            with open(\"predictions.csv\",\"a\") as f:\n",
    "                f.write(\",\" + prediction.tag + \": {0:.2f}\\n\".format(prediction.probability))\n",
    "            \n",
    "print(\"Done testing, results in Predictions.csv\")"
   ]
  },
  {
   "cell_type": "code",
   "execution_count": null,
   "metadata": {
    "collapsed": true
   },
   "outputs": [],
   "source": []
  }
 ],
 "metadata": {
  "kernelspec": {
   "display_name": "Python 3",
   "language": "python",
   "name": "python3"
  },
  "language_info": {
   "codemirror_mode": {
    "name": "ipython",
    "version": 3
   },
   "file_extension": ".py",
   "mimetype": "text/x-python",
   "name": "python",
   "nbconvert_exporter": "python",
   "pygments_lexer": "ipython3",
   "version": "3.6.0"
  }
 },
 "nbformat": 4,
 "nbformat_minor": 2
}
